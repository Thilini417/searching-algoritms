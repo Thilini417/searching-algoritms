{
 "cells": [
  {
   "cell_type": "markdown",
   "id": "574b4022-6205-45fc-bc87-5c6c5f87caa1",
   "metadata": {},
   "source": [
    "<h3>Semantic Search</h3>"
   ]
  },
  {
   "cell_type": "code",
   "execution_count": 4,
   "id": "40beb009-3428-4bee-b783-e174c631d879",
   "metadata": {},
   "outputs": [],
   "source": [
    "#import libraries\n",
    "import weaviate\n",
    "import cohere"
   ]
  },
  {
   "cell_type": "code",
   "execution_count": 6,
   "id": "5ff56d95-8eeb-463f-9e8f-f453bdcb0016",
   "metadata": {},
   "outputs": [],
   "source": [
    "#Api cohere key. obtain from cohere.com\n",
    "cohere_api_key = \"Keeb1E63nVYR0dPVIXb4xJWJ4SJau6TAo28rGppJ\""
   ]
  },
  {
   "cell_type": "code",
   "execution_count": 7,
   "id": "4efdf35d-3121-4f53-afd0-ef167d0e9ee3",
   "metadata": {},
   "outputs": [],
   "source": [
    "#create a cohere client object.\n",
    "co = cohere.Client(cohere_api_key)"
   ]
  },
  {
   "cell_type": "code",
   "execution_count": 9,
   "id": "5af11cb4-4586-4c78-8aac-853952e5d5fb",
   "metadata": {},
   "outputs": [
    {
     "name": "stderr",
     "output_type": "stream",
     "text": [
      "C:\\Users\\Thilini\\anaconda3\\Lib\\site-packages\\weaviate\\warnings.py:162: DeprecationWarning: Dep016: Python client v3 `weaviate.Client(...)` connections and methods are deprecated. Update\n",
      "            your code to use Python client v4 `weaviate.WeaviateClient` connections and methods.\n",
      "\n",
      "            For Python Client v4 usage, see: https://weaviate.io/developers/weaviate/client-libraries/python\n",
      "            For code migration, see: https://weaviate.io/developers/weaviate/client-libraries/python/v3_v4_migration\n",
      "            \n",
      "  warnings.warn(\n"
     ]
    }
   ],
   "source": [
    "#create a vector database object\n",
    "#connect to the weaviate demo database containing 10M wikipedia vectors\n",
    "\n",
    "auth_config = weaviate.auth.AuthApiKey(api_key=\"76320a90-53d8-42bc-b41d-678647c6672e\")\n",
    "client = weaviate.Client(\n",
    "    url = \"https://cohere-demo.weaviate.network/\",\n",
    "    auth_client_secret=auth_config,\n",
    "additional_headers={\n",
    "    \"X-Cohere-Api-Key\": cohere_api_key,\n",
    "    }\n",
    "\n",
    ")"
   ]
  },
  {
   "cell_type": "code",
   "execution_count": 14,
   "id": "9452ced1-5e2a-43ed-8d47-acf63a1e1891",
   "metadata": {},
   "outputs": [],
   "source": [
    "#Keyword Function\n",
    "def keyword_search(query, results_lang='en', num_results=3):\n",
    "    properties = [\"text\", \"title\", \"url\"]\n",
    "\n",
    "    where_filter = {\n",
    "    \"path\": [\"lang\"],\n",
    "    \"operator\": \"Equal\",\n",
    "    \"valueString\": results_lang\n",
    "    }\n",
    "\n",
    "    responce = (\n",
    "    client.query.get(\"Articles\", properties)\n",
    "    .with_bm25(\n",
    "    query=query\n",
    "    )\n",
    "    .with_where(where_filter)\n",
    "    .with_limit(num_results)\n",
    "    .do()\n",
    "    )\n",
    "    result = responce['data']['Get']['Articles']\n",
    "    return result"
   ]
  },
  {
   "cell_type": "code",
   "execution_count": 15,
   "id": "7625ecd3-94b3-4d3d-b662-04979599af1f",
   "metadata": {},
   "outputs": [],
   "source": [
    "#Example usage\n",
    "query = \"What is the highest mountain peak in the world?\"\n",
    "top_documents = keyword_search(query)"
   ]
  },
  {
   "cell_type": "code",
   "execution_count": 16,
   "id": "59cf077f-0df2-4881-adbc-55c01b8f894c",
   "metadata": {},
   "outputs": [
    {
     "data": {
      "text/plain": [
       "[{'text': \"The Polish scientist and explorer Count Paul Edmund Strzelecki conducted surveying work in the Australian Alps in 1839 and, led by his two Aboriginal guides Charlie Tarra and Jackie, became the first European to ascend Australia's highest peak, which he named Mount Kosciuszko in honour of the Polish patriot Tadeusz Kościuszko.European explorers penetrated deeper into the interior in the 1840s in a quest to discover new lands for agriculture or answer scientific enquiries. The German scientist Ludwig Leichhardt led three expeditions in northern Australia in this decade, sometimes with the help of Aboriginal guides, identifying the grazing potential of the region and making important discoveries in the fields of botany and geology. He and his party disappeared in 1848 while attempting to cross the continent from east to west. Edmund Kennedy led an expedition into what is now far-western Queensland in 1847 before being speared by Aborigines in the Cape York Peninsula in 1848.\",\n",
       "  'title': 'History of Australia',\n",
       "  'url': 'https://en.wikipedia.org/wiki?curid=39582'},\n",
       " {'text': \"As desert life proves arduous, the Israelites complain and long for Egypt, but God miraculously provides manna for them to eat and water to drink. The Israelites arrive at the mountain of God, where Moses's father-in-law Jethro visits Moses; at his suggestion, Moses appoints judges over Israel. God asks whether they will agree to be his people. They accept. The people gather at the foot of the mountain, and with thunder and lightning, fire and clouds of smoke, the sound of trumpets, and the trembling of the mountain, God appears on the peak, and the people see the cloud and hear the voice (or possibly sound) of God. God tells Moses to ascend the mountain. God pronounces the Ten Commandments (the Ethical Decalogue) in the hearing of all Israel. Moses goes up the mountain into the presence of God, who pronounces the Covenant Code of ritual and civil law and promises Canaan to them if they obey. Moses comes down from the mountain and writes down God's words, and the people agree to keep them. God calls Moses up the mountain again, where he remains for forty days and forty nights, after which he returns, bearing the set of stone tablets.\",\n",
       "  'title': 'Book of Exodus',\n",
       "  'url': 'https://en.wikipedia.org/wiki?curid=9662'},\n",
       " {'text': 'The complicated geological past of the region is obvious from the morphology of Olympus and its National Park. Features include deep gorges and lots of smooth peaks, many of them over , including Aghios Antonios (), Kalogeros (), Toumpa () and Profitis Ilias (). However, it is the central, almost vertical, rocky peaks, that impress the visitor. Over the town of Litochoro, on the horizon, the relief of the mountain displays an apparent \"V\", between two peaks of almost equal height. The left limb is the peak named Mytikas (or Pantheon). It is Greece\\'s highest peak. Then, on the right is Stefani (or Thronos Dios [Throne of Zeus]), which presents the most impressive and steep peak of Olympus, with its last sharply rising 200 meters presenting the greatest challenge for climbers. Further south, Skolio ( second highest sub-peak – ) completes an arc of about 200 degrees, with its steep slopes forming on the west side, like a wall, an impressive precipitous amphitheatrical cavity, in depth and in circumference, the \\'Megala Kazania\\'. On the east side of the high peaks the steep slopes form zone like parallel folds, the \\'Zonaria\\'. Even narrower and steeper scorings, the \\'Loukia\\', lead to the peak.',\n",
       "  'title': 'Mount Olympus',\n",
       "  'url': 'https://en.wikipedia.org/wiki?curid=12418604'}]"
      ]
     },
     "execution_count": 16,
     "metadata": {},
     "output_type": "execute_result"
    }
   ],
   "source": [
    "top_documents"
   ]
  },
  {
   "cell_type": "code",
   "execution_count": 17,
   "id": "9f762e78-69dc-495e-921f-aca36f6006db",
   "metadata": {},
   "outputs": [],
   "source": [
    "# Example usage 2 \n",
    "query1 = \"What is the capital of United State of America?\"\n",
    "top_document2 = keyword_search(query1)"
   ]
  },
  {
   "cell_type": "code",
   "execution_count": 18,
   "id": "d6812e66-6b83-49e7-9700-18264bd8e0a5",
   "metadata": {},
   "outputs": [
    {
     "data": {
      "text/plain": [
       "[{'text': \"North America outside the zone of Spanish settlement was a contested area in the 17th century. Spain had founded small settlements in Florida and Georgia but nowhere near the size of those in New Spain or the Caribbean islands. France, The Netherlands, and Great Britain held several colonies in North America and the West Indies from the 17th century, 100 years after the Spanish and Portuguese established permanent colonies. The British colonies in North America were founded between 1607 (Virginia) and 1733 (Georgia). The Dutch explored the east coast of North America and began founding settlements in what they called New Netherland (now New York State.). France colonized what is now Eastern Canada, founding Quebec City in 1608. France's loss in the Seven Years' War resulted in the transfer of New France to Great Britain. The Thirteen Colonies, in lower British North America, rebelled against British rule in 1775, largely due to the taxation that Great Britain was imposing on the colonies. The British colonies in Canada remained loyal to the crown, and a provisional government formed by the Thirteen Colonies proclaimed their independence on July 4, 1776 and subsequently became the original 13 United States of America. With the 1783 Treaty of Paris ending the American Revolutionary War, Britain recognised the former Thirteen Colonies' independence.\",\n",
       "  'title': 'Early modern period',\n",
       "  'url': 'https://en.wikipedia.org/wiki?curid=1291656'},\n",
       " {'text': 'In 2013 longtime New Age author Marianne Williamson launched a campaign for a seat in the United States House of Representatives, telling \"The New York Times\" that her type of spirituality was what American politics needed. \"America has swerved from its ethical center\", she said. Running as an independent in west Los Angeles, she finished fourth in her district\\'s open primary election with 13% of the vote. In early 2019, Williamson announced her candidacy for the Democratic Party nomination for president of the United States in the 2020 United States presidential election. A 5,300-word article about her presidential campaign in \"The Washington Post\" said she had \"plans to fix America with love. Tough love\". In January 2020 she withdrew her bid for the nomination.',\n",
       "  'title': 'New Age',\n",
       "  'url': 'https://en.wikipedia.org/wiki?curid=21742'},\n",
       " {'text': 'In what became known as the \"Banana Wars,\" between the end of the Spanish–American War in 1898 and the inception of the Good Neighbor Policy in 1934, the U.S. staged many military invasions and interventions in Central America and the Caribbean. One of these incursions, in 1903, involved regime change rather than regime preservation. The United States Marine Corps, which most often fought these wars, developed a manual called \"The Strategy and Tactics of Small Wars\" in 1921 based on its experiences. On occasion, the Navy provided gunfire support and Army troops were also used. The United Fruit Company and Standard Fruit Company dominated Honduras\\' key banana export sector and associated land holdings and railways. The U.S. staged invasions and incursions of US troops in 1903 (supporting a coup by Manuel Bonilla), 1907 (supporting Bonilla against a Nicaraguan-backed coup), 1911 and 1912 (defending the regime of Miguel R. Davila from an uprising), 1919 (peacekeeping during a civil war, and installing the caretaker government of Francisco Bográn), 1920 (defending the Bográn regime from a general strike), 1924 (defending the regime of Rafael López Gutiérrez from an uprising) and 1925 (defending the elected government of Miguel Paz Barahona) to defend US interests.',\n",
       "  'title': 'United States involvement in regime change',\n",
       "  'url': 'https://en.wikipedia.org/wiki?curid=37258993'}]"
      ]
     },
     "execution_count": 18,
     "metadata": {},
     "output_type": "execute_result"
    }
   ],
   "source": [
    "top_document2"
   ]
  },
  {
   "cell_type": "markdown",
   "id": "96fba87e-f00d-4323-8bf2-b66143379da0",
   "metadata": {},
   "source": [
    "<h3>Search using Dence Retrival and Vector Database</h3>"
   ]
  },
  {
   "cell_type": "code",
   "execution_count": 19,
   "id": "eb8c0aa8-3992-4b4e-a54e-028edb46b486",
   "metadata": {},
   "outputs": [],
   "source": [
    "# Dense retrival function\n",
    "def dense_retrieval(query, results_lang='en', num_results=3):\n",
    "\n",
    "    nearText = {\"concepts\": [query]}\n",
    "    properties = [\"text\", \"title\", \"url\", \"_additional {distance}\"]\n",
    "\n",
    "    where_filter = {\n",
    "    \"path\": [\"lang\"],\n",
    "    \"operator\": \"Equal\",\n",
    "    \"valueString\": results_lang\n",
    "    }\n",
    "\n",
    "    responce = (\n",
    "    client.query\n",
    "    .get(\"Articles\", properties)\n",
    "    .with_near_text(nearText)\n",
    "    .with_where(where_filter)\n",
    "    .with_limit(num_results)\n",
    "    .do()\n",
    "    )\n",
    "    result = responce['data']['Get']['Articles']\n",
    "    return result"
   ]
  },
  {
   "cell_type": "code",
   "execution_count": 21,
   "id": "f43d5139-1adc-48c1-af1d-4b760d30ae8f",
   "metadata": {},
   "outputs": [],
   "source": [
    "top_documents = dense_retrieval(query)"
   ]
  },
  {
   "cell_type": "code",
   "execution_count": 23,
   "id": "6d566b3e-5956-433a-b97f-0c4b0919692d",
   "metadata": {},
   "outputs": [
    {
     "data": {
      "text/plain": [
       "[{'_additional': {'distance': -150.58865},\n",
       "  'text': \"Heights of mountains are typically measured above sea level. Using this metric, Mount Everest is the highest mountain on Earth, at . There are at least 100 mountains with heights of over above sea level, all of which are located in central and southern Asia. The highest mountains above sea level are generally not the highest above the surrounding terrain. There is no precise definition of surrounding base, but Denali, Mount Kilimanjaro and Nanga Parbat are possible candidates for the tallest mountain on land by this measure. The bases of mountain islands are below sea level, and given this consideration Mauna Kea ( above sea level) is the world's tallest mountain and volcano, rising about from the Pacific Ocean floor.\",\n",
       "  'title': 'Mountain',\n",
       "  'url': 'https://en.wikipedia.org/wiki?curid=37754'},\n",
       " {'_additional': {'distance': -150.0647},\n",
       "  'text': 'Until 1852, Kangchenjunga was assumed to be the highest mountain in the world, but calculations and measurements by the Great Trigonometrical Survey of India in 1849 showed that Mount Everest, known as Peak XV at the time, is actually higher. After allowing for further verification of all calculations, it was officially announced in 1856 that Kangchenjunga was the third highest mountain.',\n",
       "  'title': 'Kangchenjunga',\n",
       "  'url': 'https://en.wikipedia.org/wiki?curid=17073'},\n",
       " {'_additional': {'distance': -149.33359},\n",
       "  'text': 'A 1986 expedition led by George Wallerstein made an inaccurate measurement showing that K2 was taller than Mount Everest, and therefore the tallest mountain in the world. A corrected measurement was made in 1987, but by then the claim that K2 was the tallest mountain in the world had already made it into many news reports and reference works.',\n",
       "  'title': 'K2',\n",
       "  'url': 'https://en.wikipedia.org/wiki?curid=17359'}]"
      ]
     },
     "execution_count": 23,
     "metadata": {},
     "output_type": "execute_result"
    }
   ],
   "source": [
    "top_documents"
   ]
  },
  {
   "cell_type": "code",
   "execution_count": 24,
   "id": "ddcb3cf1-6aeb-46b8-a58a-b355e6476358",
   "metadata": {},
   "outputs": [],
   "source": [
    "top_documents2 = dense_retrieval(query1)"
   ]
  },
  {
   "cell_type": "code",
   "execution_count": 25,
   "id": "aad31c05-6f5a-42fb-8fce-269864260c29",
   "metadata": {},
   "outputs": [
    {
     "data": {
      "text/plain": [
       "[{'_additional': {'distance': -148.66464},\n",
       "  'text': \"In 1785, the assembly of the Congress of the Confederation made New York City the national capital shortly after the war. New York was the last capital of the U.S. under the Articles of Confederation and the first capital under the Constitution of the United States. New York City as the U.S. capital hosted several events of national scope in 1789—the first President of the United States, George Washington, was inaugurated; the first United States Congress and the Supreme Court of the United States each assembled for the first time; and the United States Bill of Rights was drafted, all at Federal Hall on Wall Street. In 1790, New York surpassed Philadelphia as the nation's largest city. At the end of that year, pursuant to the Residence Act, the national capital was moved to Philadelphia.\",\n",
       "  'title': 'New York City',\n",
       "  'url': 'https://en.wikipedia.org/wiki?curid=645042'},\n",
       " {'_additional': {'distance': -147.85652},\n",
       "  'text': \"New York City (NYC) is the most populous city in the United States, and around two-thirds of the state's population lives in the New York metropolitan area, the world's largest urban landmass. NYC is home to the headquarters of the United Nations, and has been described as the cultural, financial, and media capital of the world, as well as the world's most economically powerful city, and is sometimes described as the capital of the world. The next five most populous cities in the state are Buffalo, Yonkers, Rochester, Syracuse, and the state capital of Albany. Throughout its history, New York has maintained an overall progressive social stance and has been a pioneer in immigration policy, women's suffrage, and the LGBTQ+ rights movement, although the New York metropolitan area has generally been more politically liberal than regions northward in the state.\",\n",
       "  'title': 'New York (state)',\n",
       "  'url': 'https://en.wikipedia.org/wiki?curid=8210131'},\n",
       " {'_additional': {'distance': -147.3617},\n",
       "  'text': \"The United States of America (U.S.A. or USA), commonly known as the United States (U.S. or US) or America, is a country primarily in North America. It consists of 50 states, a federal district, five major unincorporated territories, nine Minor Outlying Islands, and 326 Indian reservations. It is the world's third-largest country by both land and total area. The United States shares land borders with Canada to its north and with Mexico to its south. It has maritime borders with the Bahamas, Cuba, Russia, and other nations. With a population of over 331 million, it is the most populous country in the Americas and the third most populous in the world. The national capital is Washington, D.C., and the most populous city and financial center is New York City.\",\n",
       "  'title': 'United States',\n",
       "  'url': 'https://en.wikipedia.org/wiki?curid=3434750'}]"
      ]
     },
     "execution_count": 25,
     "metadata": {},
     "output_type": "execute_result"
    }
   ],
   "source": [
    "top_documents2"
   ]
  },
  {
   "cell_type": "markdown",
   "id": "99d1a0cb-157d-4167-ac66-df0fbeb62bd9",
   "metadata": {},
   "source": [
    "<h3>Search using Dense retrieval, Rerank and Vector Database</h3>"
   ]
  },
  {
   "cell_type": "code",
   "execution_count": 29,
   "id": "bba6c178-ef6f-45b4-9486-e80fc06b4947",
   "metadata": {},
   "outputs": [],
   "source": [
    "def rerank_responses(query, responses, num_responses=2):\n",
    "    reranked_responses = co.rerank(\n",
    "        model = 'rerank-english-v2.0',\n",
    "        query = query,\n",
    "        documents = responses,\n",
    "        top_n = num_responses,\n",
    "    )\n",
    "    return reranked_responses"
   ]
  },
  {
   "cell_type": "code",
   "execution_count": 33,
   "id": "a252cb22-69bd-4282-b826-e5a7d5f77db6",
   "metadata": {},
   "outputs": [],
   "source": [
    "texts = [result.get('text') for result in top_documents]\n",
    "reranked_text = rerank_responses(query, texts)"
   ]
  },
  {
   "cell_type": "code",
   "execution_count": 34,
   "id": "f20d516b-7af9-4555-b218-29fdf52b08da",
   "metadata": {},
   "outputs": [
    {
     "name": "stdout",
     "output_type": "stream",
     "text": [
      "i:0\n",
      "('id', '7c9853f0-5a13-49ae-ad20-119edc1357c3')\n",
      "i:1\n",
      "('results', [RerankResponseResultsItem(document=None, index=1, relevance_score=0.92892635), RerankResponseResultsItem(document=None, index=2, relevance_score=0.876423)])\n",
      "i:2\n",
      "('meta', ApiMeta(api_version=ApiMetaApiVersion(version='1', is_deprecated=None, is_experimental=None), billed_units=ApiMetaBilledUnits(input_tokens=None, output_tokens=None, search_units=1.0, classifications=None), tokens=None, warnings=None))\n"
     ]
    }
   ],
   "source": [
    "for i, result in enumerate(reranked_text):\n",
    "    print(f\"i:{i}\")\n",
    "    print(f\"{result}\")"
   ]
  },
  {
   "cell_type": "code",
   "execution_count": 35,
   "id": "c750e748-e1c3-4c41-b7fb-7aa1f43fcbae",
   "metadata": {},
   "outputs": [],
   "source": [
    "texts = [result.get('text') for result in top_document2]\n",
    "reranked_text1 = rerank_responses(query, texts)"
   ]
  },
  {
   "cell_type": "code",
   "execution_count": 36,
   "id": "2bbf5ebe-66ed-4f9d-a3ea-bd04b51e481b",
   "metadata": {},
   "outputs": [
    {
     "name": "stdout",
     "output_type": "stream",
     "text": [
      "i:0\n",
      "('id', '9deb345e-5dd9-4669-912b-b2f8734529a1')\n",
      "i:1\n",
      "('results', [RerankResponseResultsItem(document=None, index=1, relevance_score=0.23881637), RerankResponseResultsItem(document=None, index=2, relevance_score=0.12506539)])\n",
      "i:2\n",
      "('meta', ApiMeta(api_version=ApiMetaApiVersion(version='1', is_deprecated=None, is_experimental=None), billed_units=ApiMetaBilledUnits(input_tokens=None, output_tokens=None, search_units=1.0, classifications=None), tokens=None, warnings=None))\n"
     ]
    }
   ],
   "source": [
    "for i, result in enumerate(reranked_text1):\n",
    "    print(f\"i:{i}\")\n",
    "    print(f\"{result}\")"
   ]
  },
  {
   "cell_type": "code",
   "execution_count": null,
   "id": "d4d42843-c5c2-4134-a6af-7fad18766fff",
   "metadata": {},
   "outputs": [],
   "source": []
  }
 ],
 "metadata": {
  "kernelspec": {
   "display_name": "Python 3 (ipykernel)",
   "language": "python",
   "name": "python3"
  },
  "language_info": {
   "codemirror_mode": {
    "name": "ipython",
    "version": 3
   },
   "file_extension": ".py",
   "mimetype": "text/x-python",
   "name": "python",
   "nbconvert_exporter": "python",
   "pygments_lexer": "ipython3",
   "version": "3.12.4"
  }
 },
 "nbformat": 4,
 "nbformat_minor": 5
}
