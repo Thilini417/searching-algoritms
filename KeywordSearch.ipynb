{
 "cells": [
  {
   "cell_type": "markdown",
   "id": "8b095041-1a15-440d-93bd-fc76b75fe378",
   "metadata": {},
   "source": [
    "<h1>Keyword Search</h1>\n",
    "<h3>Basic Search</h3>\n",
    "<p>This list below will act as our database for the search</p>"
   ]
  },
  {
   "cell_type": "code",
   "execution_count": 2,
   "id": "b9ed9b3c-4ab0-4234-a643-e4cef500eb8a",
   "metadata": {},
   "outputs": [],
   "source": [
    "#Simulated database of Wikipedia-like entries.\n",
    "articles=[\n",
    "    {'title': 'Python(programming language)', 'link': 'https://en.wikipedia.org/wiki/Python+(Programming_language)'},\n",
    "    {'title': 'History of Python', 'link': 'https://en.wikipedia.org/wiki/History_of_Python'},\n",
    "    {'title': 'Monty Python', 'link': 'https://en.wikipedia.org/wiiki/Monty_Python'},\n",
    "    {'title': 'Anaconda (Python distribution)', 'link': 'https://en.wikipedia.org/wiiki/Anaconda_(Python_distribution)'},\n",
    "    {'title': 'Python molurus', 'link': 'https://en.wikipedia.org/wiiki/Python_molurus'},\n",
    "    {'title': 'Associated football', 'link': 'https://en.wikipedia.org/wiiki/Associated_football'},\n",
    "    {'title': 'FIFA World Cup', 'link': 'https://en.wikipedia.org/wiiki/FIFA_World_Cup'},\n",
    "    {'title': 'History of Artificial Intelligence', 'link': 'https://en.wikipedia.org/wiiki/History_of_Artificial_Intelligence'},\n",
    "    {'title': 'Football in England', 'link': 'https://en.wikipedia.org/wiiki/Football_in_England'},\n",
    "    {'title': 'Applications of Artificial Intelligence', 'link': 'https://en.wikipedia.org/wiiki/Applications_of_Artificial_Intelligence'},\n",
    "]"
   ]
  },
  {
   "cell_type": "markdown",
   "id": "b3d2b52f-7f54-43d8-81f4-af7890a67aff",
   "metadata": {},
   "source": [
    "<p>This function is designed to perform a keyword search on the provided list of articles. It takes two parameters: articles, which is the list of article dictionaries, and keyword which is the user's search term</p>"
   ]
  },
  {
   "cell_type": "code",
   "execution_count": 7,
   "id": "fef1d183-1e52-44a9-aab4-689c7bc62be4",
   "metadata": {},
   "outputs": [],
   "source": [
    "# function to perform keyword search on the simulated database\n",
    "def keyword_search(articles, keyword):\n",
    "    #Convert Keyword to lowercase for case-intensitive matching\n",
    "    keyword = keyword.lower()\n",
    "    #Search for the leyword in the titles of the articles\n",
    "    results = [article for article in articles if keyword in article['title'].lower()]\n",
    "    return results\n",
    "    "
   ]
  },
  {
   "cell_type": "markdown",
   "id": "95585e62-6023-420b-9bf7-37e7d7aee309",
   "metadata": {},
   "source": [
    "The code prompts the user to enter a keyword through the input function. This keyword is then used to search the DB. The search result are then displayed to the user in a simple text format lists the title and the link of each matching article. The loop iterates over the search_results and prints them out"
   ]
  },
  {
   "cell_type": "code",
   "execution_count": 14,
   "id": "a16399c3-814d-42b3-8e22-b7afde391f12",
   "metadata": {},
   "outputs": [
    {
     "name": "stdin",
     "output_type": "stream",
     "text": [
      "Enter a keyword to search:  python\n"
     ]
    },
    {
     "name": "stdout",
     "output_type": "stream",
     "text": [
      "Python(programming language) https://en.wikipedia.org/wiki/Python+(Programming_language)\n",
      "History of Python https://en.wikipedia.org/wiki/History_of_Python\n",
      "Monty Python https://en.wikipedia.org/wiiki/Monty_Python\n",
      "Anaconda (Python distribution) https://en.wikipedia.org/wiiki/Anaconda_(Python_distribution)\n",
      "Python molurus https://en.wikipedia.org/wiiki/Python_molurus\n"
     ]
    }
   ],
   "source": [
    "#Example Usage\n",
    "keyword = input(\"Enter a keyword to search: \")\n",
    "search_results = keyword_search(articles,keyword)\n",
    "\n",
    "#Display the search results\n",
    "for result in search_results:\n",
    "    print(result['title'],result['link'])"
   ]
  },
  {
   "cell_type": "code",
   "execution_count": null,
   "id": "dd98e39e-1c85-412a-a234-d67ada455280",
   "metadata": {},
   "outputs": [],
   "source": []
  }
 ],
 "metadata": {
  "kernelspec": {
   "display_name": "Python 3 (ipykernel)",
   "language": "python",
   "name": "python3"
  },
  "language_info": {
   "codemirror_mode": {
    "name": "ipython",
    "version": 3
   },
   "file_extension": ".py",
   "mimetype": "text/x-python",
   "name": "python",
   "nbconvert_exporter": "python",
   "pygments_lexer": "ipython3",
   "version": "3.11.7"
  }
 },
 "nbformat": 4,
 "nbformat_minor": 5
}
