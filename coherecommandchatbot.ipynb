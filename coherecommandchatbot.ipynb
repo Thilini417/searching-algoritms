{
 "cells": [
  {
   "cell_type": "code",
   "execution_count": 1,
   "id": "e8d493c1-a87a-4335-9b39-5d46de516846",
   "metadata": {},
   "outputs": [
    {
     "name": "stdout",
     "output_type": "stream",
     "text": [
      "**************************Chat Result**************************\n",
      "{'status': 200, 'headers': {'content-type': 'application/json', 'opc-request-id': '327E7F41F56144BB99A607057B791C3D/66A71FB6F42B861B2377B3B850C1CC17/2EDB0F8CBFDAD552AAF1C8C9984D9D08', 'content-encoding': 'gzip', 'content-length': '1410'}, 'data': {\n",
      "  \"chat_response\": {\n",
      "    \"api_format\": \"COHERE\",\n",
      "    \"chat_history\": [\n",
      "      {\n",
      "        \"message\": \"How does a telescope work?\",\n",
      "        \"role\": \"USER\"\n",
      "      },\n",
      "      {\n",
      "        \"message\": \"Telescopes use lenses or mirrors to gather and focus light from celestial objects, magnifying and clarifying them for our viewing pleasure. The light from these objects, such as stars and planets, enters the telescope and is processed to create an image that enables us to observe details and phenomena we wouldn't be able to see with the naked eye. \\n\\nThere are two primary types of telescopes: refractive and reflective. Refractive telescopes use lenses to bend light into focus, whereas reflective telescopes use mirrors. \\n\\nRefractive telescopes are the more traditional type, utilizing lenses to both capture and focus light into an image. The process is similar to how a magnifying glass works. These telescopes can provide crisp images but are limited in size due to the expense and challenges of manufacturing large lenses. They are also susceptible to chromatic aberration, which causes different colors of light to focus at different points, leading to a distorted image.\\n\\nOn the other hand, reflective telescopes use mirrors to capture and focus light. A primary mirror captures the incoming light from the celestial object and reflects it onto a secondary mirror, which then reflects the light back through the telescope tube. This design allows for larger apertures than refractive telescopes, enabling the capture of fainter objects and providing higher magnification. Reflecting telescopes are also less susceptible to chromatic aberration, as mirrors can reflect all colors of light uniformly. However, the image quality is highly dependent on the precise alignment of the mirrors.\\n\\nWhether refractive or reflective, the key to a telescope's success is its ability to gather light. The larger the light-gathering aperture, the more faint and distant objects the telescope can observe. This is represented by the telescope's aperture size, which is often a deciding factor in its cost. Amateur telescopes start as small as 60mm (2.4 inches) in aperture, while professional telescopes can reach upwards of 10 meters (33 feet). \\n\\nRegardless of the type of telescope, the principle is the same: to capture and focus light to form a clear and magnified image of the night sky, enabling us to explore the universe in a way that our eyes alone cannot. \\n\\nSome telescopes, like the Hubble Space Telescope, use their position in space to observe the sky in ways that ground-based telescopes cannot. Hubble's orbit outside the distortion of the Earth's atmosphere allows for even more detailed and clear images, providing us with breathtaking and scientifically valuable insights into the cosmos.\",\n",
      "        \"role\": \"CHATBOT\",\n",
      "        \"tool_calls\": null\n",
      "      }\n",
      "    ],\n",
      "    \"citations\": null,\n",
      "    \"documents\": null,\n",
      "    \"error_message\": null,\n",
      "    \"finish_reason\": \"COMPLETE\",\n",
      "    \"is_search_required\": null,\n",
      "    \"prompt\": null,\n",
      "    \"search_queries\": null,\n",
      "    \"text\": \"Telescopes use lenses or mirrors to gather and focus light from celestial objects, magnifying and clarifying them for our viewing pleasure. The light from these objects, such as stars and planets, enters the telescope and is processed to create an image that enables us to observe details and phenomena we wouldn't be able to see with the naked eye. \\n\\nThere are two primary types of telescopes: refractive and reflective. Refractive telescopes use lenses to bend light into focus, whereas reflective telescopes use mirrors. \\n\\nRefractive telescopes are the more traditional type, utilizing lenses to both capture and focus light into an image. The process is similar to how a magnifying glass works. These telescopes can provide crisp images but are limited in size due to the expense and challenges of manufacturing large lenses. They are also susceptible to chromatic aberration, which causes different colors of light to focus at different points, leading to a distorted image.\\n\\nOn the other hand, reflective telescopes use mirrors to capture and focus light. A primary mirror captures the incoming light from the celestial object and reflects it onto a secondary mirror, which then reflects the light back through the telescope tube. This design allows for larger apertures than refractive telescopes, enabling the capture of fainter objects and providing higher magnification. Reflecting telescopes are also less susceptible to chromatic aberration, as mirrors can reflect all colors of light uniformly. However, the image quality is highly dependent on the precise alignment of the mirrors.\\n\\nWhether refractive or reflective, the key to a telescope's success is its ability to gather light. The larger the light-gathering aperture, the more faint and distant objects the telescope can observe. This is represented by the telescope's aperture size, which is often a deciding factor in its cost. Amateur telescopes start as small as 60mm (2.4 inches) in aperture, while professional telescopes can reach upwards of 10 meters (33 feet). \\n\\nRegardless of the type of telescope, the principle is the same: to capture and focus light to form a clear and magnified image of the night sky, enabling us to explore the universe in a way that our eyes alone cannot. \\n\\nSome telescopes, like the Hubble Space Telescope, use their position in space to observe the sky in ways that ground-based telescopes cannot. Hubble's orbit outside the distortion of the Earth's atmosphere allows for even more detailed and clear images, providing us with breathtaking and scientifically valuable insights into the cosmos.\",\n",
      "    \"tool_calls\": null\n",
      "  },\n",
      "  \"model_id\": \"ocid1.generativeaimodel.oc1.us-chicago-1.amaaaaaask7dceyawk6mgunzodenakhkuwxanvt6wo3jcpf72ln52dymk4wq\",\n",
      "  \"model_version\": \"1.2\"\n",
      "}, 'request': <oci.request.Request object at 0x000002A642E02410>, 'next_page': None, 'request_id': '327E7F41F56144BB99A607057B791C3D/66A71FB6F42B861B2377B3B850C1CC17/2EDB0F8CBFDAD552AAF1C8C9984D9D08'}\n"
     ]
    }
   ],
   "source": [
    "# coding: utf-8\n",
    "# Copyright (c) 2023, Oracle and/or its affiliates.  All rights reserved.\n",
    "# This software is dual-licensed to you under the Universal Permissive License (UPL) 1.0 as shown at https://oss.oracle.com/licenses/upl or Apache License 2.0 as shown at http://www.apache.org/licenses/LICENSE-2.0. You may choose either license.\n",
    "\n",
    "##########################################################################\n",
    "# chat_demo.py\n",
    "# Supports Python 3\n",
    "##########################################################################\n",
    "# Info:\n",
    "# Get texts from LLM model for given prompts using OCI Generative AI Service.\n",
    "##########################################################################\n",
    "# Application Command line(no parameter needed)\n",
    "# python chat_demo.py\n",
    "##########################################################################\n",
    "import oci\n",
    "\n",
    "# Setup basic variables\n",
    "# Auth Config\n",
    "# TODO: Please update config profile name and use the compartmentId that has policies grant permissions for using Generative AI Service\n",
    "compartment_id = \"ocid1.tenancy.oc1..aaaaaaaa77cvvhxu6a7dauvbzrhxeoamifazsqzl47ygggdhbrjymt2zmu2q\"\n",
    "CONFIG_PROFILE = \"DEFAULT\"\n",
    "config = oci.config.from_file('~/.oci/config', CONFIG_PROFILE)\n",
    "\n",
    "# Service endpoint\n",
    "endpoint = \"https://inference.generativeai.us-chicago-1.oci.oraclecloud.com\"\n",
    "\n",
    "generative_ai_inference_client = oci.generative_ai_inference.GenerativeAiInferenceClient(config=config, service_endpoint=endpoint, retry_strategy=oci.retry.NoneRetryStrategy(), timeout=(10,240))\n",
    "chat_detail = oci.generative_ai_inference.models.ChatDetails()\n",
    "\n",
    "chat_request = oci.generative_ai_inference.models.CohereChatRequest()\n",
    "chat_request.message = \"How does a telescope work?\"\n",
    "chat_request.max_tokens = 600\n",
    "chat_request.temperature = 1\n",
    "chat_request.frequency_penalty = 0\n",
    "chat_request.top_p = 0.75\n",
    "chat_request.top_k = 0\n",
    "\n",
    "\n",
    "chat_detail.serving_mode = oci.generative_ai_inference.models.OnDemandServingMode(model_id=\"ocid1.generativeaimodel.oc1.us-chicago-1.amaaaaaask7dceyawk6mgunzodenakhkuwxanvt6wo3jcpf72ln52dymk4wq\")\n",
    "chat_detail.chat_request = chat_request\n",
    "chat_detail.compartment_id = compartment_id\n",
    "chat_response = generative_ai_inference_client.chat(chat_detail)\n",
    "# Print result\n",
    "print(\"**************************Chat Result**************************\")\n",
    "print(vars(chat_response))\n"
   ]
  },
  {
   "cell_type": "code",
   "execution_count": null,
   "id": "a373dabc-7675-4163-bf9a-3c52ac09a0c1",
   "metadata": {},
   "outputs": [],
   "source": []
  }
 ],
 "metadata": {
  "kernelspec": {
   "display_name": "Python 3 (ipykernel)",
   "language": "python",
   "name": "python3"
  },
  "language_info": {
   "codemirror_mode": {
    "name": "ipython",
    "version": 3
   },
   "file_extension": ".py",
   "mimetype": "text/x-python",
   "name": "python",
   "nbconvert_exporter": "python",
   "pygments_lexer": "ipython3",
   "version": "3.11.7"
  }
 },
 "nbformat": 4,
 "nbformat_minor": 5
}
